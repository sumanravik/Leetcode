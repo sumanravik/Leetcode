{
 "cells": [
  {
   "cell_type": "markdown",
   "id": "9fdb0be6",
   "metadata": {},
   "source": [
    "##### Solution for converting Roman Numbers to Integers"
   ]
  },
  {
   "cell_type": "code",
   "execution_count": null,
   "id": "758b72cf",
   "metadata": {},
   "outputs": [],
   "source": [
    "class Solution:\n",
    "    def romanToInt(self, s: str) -> int:\n",
    "        total = 0\n",
    "        dict = {\"I\":1, \"V\":5,\"X\":10,\"L\":50,\"C\":100,\"D\":500,\"M\":1000}\n",
    "        \n",
    "        for i in range(len(s) -1):\n",
    "            if dict[s[i]] < dict[s[i+1]]:\n",
    "                total -= dict[s[i]]\n",
    "            else:\n",
    "                total += dict[s[i]]\n",
    "        return (total + dict[s[-1]])"
   ]
  }
 ],
 "metadata": {
  "kernelspec": {
   "display_name": "Python 3 (ipykernel)",
   "language": "python",
   "name": "python3"
  },
  "language_info": {
   "codemirror_mode": {
    "name": "ipython",
    "version": 3
   },
   "file_extension": ".py",
   "mimetype": "text/x-python",
   "name": "python",
   "nbconvert_exporter": "python",
   "pygments_lexer": "ipython3",
   "version": "3.8.10"
  }
 },
 "nbformat": 4,
 "nbformat_minor": 5
}
