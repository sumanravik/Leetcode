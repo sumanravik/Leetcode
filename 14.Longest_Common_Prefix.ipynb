{
 "cells": [
  {
   "cell_type": "code",
   "execution_count": null,
   "id": "b2635122",
   "metadata": {},
   "outputs": [],
   "source": [
    "class Solution:\n",
    "    def longestCommonPrefix(self, m):\n",
    "        if not m: return ''\n",
    "        s1 = min(m)\n",
    "        s2 = max(m)\n",
    "\n",
    "        for i, c in enumerate(s1):\n",
    "            if c != s2[i]:\n",
    "                return s1[:i] \n",
    "        return s1"
   ]
  }
 ],
 "metadata": {
  "kernelspec": {
   "display_name": "Python 3 (ipykernel)",
   "language": "python",
   "name": "python3"
  },
  "language_info": {
   "codemirror_mode": {
    "name": "ipython",
    "version": 3
   },
   "file_extension": ".py",
   "mimetype": "text/x-python",
   "name": "python",
   "nbconvert_exporter": "python",
   "pygments_lexer": "ipython3",
   "version": "3.8.10"
  }
 },
 "nbformat": 4,
 "nbformat_minor": 5
}
