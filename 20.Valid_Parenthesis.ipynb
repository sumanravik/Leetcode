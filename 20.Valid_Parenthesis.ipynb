{
 "cells": [
  {
   "cell_type": "code",
   "execution_count": 1,
   "id": "c6850df3",
   "metadata": {},
   "outputs": [],
   "source": [
    "class Solution:\n",
    "    def isValid(self, s: str) -> bool:\n",
    "        string = s\n",
    "        stack = []\n",
    "        open_paren = [\"(\", \"{\", \"[\"]\n",
    "        closed_paren = [\")\", \"}\", \"]\"]\n",
    "        l = len(string)\n",
    "        i = 0\n",
    "        while l > 0:\n",
    "            if string[i] in open_paren:\n",
    "                stack.append(string[i])\n",
    "            elif string[i] in closed_paren:\n",
    "                if stack == [] or stack.pop() != open_paren[closed_paren.index(string[i])]:\n",
    "                    return False\n",
    "            i = i + 1\n",
    "            l = l-1\n",
    "        print(stack)\n",
    "        return stack == []\n",
    "    "
   ]
  }
 ],
 "metadata": {
  "kernelspec": {
   "display_name": "Python 3 (ipykernel)",
   "language": "python",
   "name": "python3"
  },
  "language_info": {
   "codemirror_mode": {
    "name": "ipython",
    "version": 3
   },
   "file_extension": ".py",
   "mimetype": "text/x-python",
   "name": "python",
   "nbconvert_exporter": "python",
   "pygments_lexer": "ipython3",
   "version": "3.8.10"
  }
 },
 "nbformat": 4,
 "nbformat_minor": 5
}
