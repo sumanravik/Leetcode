{
 "cells": [
  {
   "cell_type": "markdown",
   "id": "5c8e65e8",
   "metadata": {},
   "source": [
    "##### Two Number sum to meet the target variable"
   ]
  },
  {
   "cell_type": "code",
   "execution_count": 1,
   "id": "2f75413f",
   "metadata": {},
   "outputs": [],
   "source": [
    "class solution:\n",
    "    def twoSum(self, nums, target):\n",
    "        dict = {}\n",
    "        for i, n in enumerate(nums):\n",
    "            m = target - n\n",
    "            if m in dict:\n",
    "                return(dict[m] , i)\n",
    "            else:\n",
    "                dict[n] = i"
   ]
  },
  {
   "cell_type": "code",
   "execution_count": 3,
   "id": "256c15b2",
   "metadata": {},
   "outputs": [],
   "source": [
    "nums = [1,2,3,4,5,6,7,8,10]\n",
    "target = 17"
   ]
  },
  {
   "cell_type": "code",
   "execution_count": 4,
   "id": "f4c78563",
   "metadata": {},
   "outputs": [
    {
     "data": {
      "text/plain": [
       "(6, 8)"
      ]
     },
     "execution_count": 4,
     "metadata": {},
     "output_type": "execute_result"
    }
   ],
   "source": [
    "t = solution()\n",
    "t.twoSum(nums,target)"
   ]
  }
 ],
 "metadata": {
  "kernelspec": {
   "display_name": "Python 3 (ipykernel)",
   "language": "python",
   "name": "python3"
  },
  "language_info": {
   "codemirror_mode": {
    "name": "ipython",
    "version": 3
   },
   "file_extension": ".py",
   "mimetype": "text/x-python",
   "name": "python",
   "nbconvert_exporter": "python",
   "pygments_lexer": "ipython3",
   "version": "3.8.10"
  }
 },
 "nbformat": 4,
 "nbformat_minor": 5
}
