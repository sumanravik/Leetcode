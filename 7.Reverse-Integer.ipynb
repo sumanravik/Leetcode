{
 "cells": [
  {
   "cell_type": "code",
   "execution_count": 1,
   "id": "72209b9e",
   "metadata": {},
   "outputs": [],
   "source": [
    "class Solution:\n",
    "    def reverse(self, x: int) -> int:\n",
    "        if x < 0:\n",
    "            neg=True\n",
    "            x = -x\n",
    "        else:\n",
    "            neg = False\n",
    "        rev = 0\n",
    "        length = len(str(x))\n",
    "        \n",
    "        while x:\n",
    "            rev += (x%10) * pow(10, length - 1)\n",
    "            x = x//10\n",
    "            length = length - 1\n",
    "        if rev > (pow(2,31) - 1) or rev < pow(2, -31):\n",
    "            return 0\n",
    "        if neg:\n",
    "            return -rev\n",
    "        else:\n",
    "            return rev"
   ]
  },
  {
   "cell_type": "code",
   "execution_count": 2,
   "id": "bdb53fc4",
   "metadata": {},
   "outputs": [],
   "source": [
    "num = Solution()"
   ]
  },
  {
   "cell_type": "code",
   "execution_count": 6,
   "id": "f945226b",
   "metadata": {},
   "outputs": [
    {
     "data": {
      "text/plain": [
       "-92"
      ]
     },
     "execution_count": 6,
     "metadata": {},
     "output_type": "execute_result"
    }
   ],
   "source": [
    "num.reverse(-29)"
   ]
  }
 ],
 "metadata": {
  "kernelspec": {
   "display_name": "Python 3 (ipykernel)",
   "language": "python",
   "name": "python3"
  },
  "language_info": {
   "codemirror_mode": {
    "name": "ipython",
    "version": 3
   },
   "file_extension": ".py",
   "mimetype": "text/x-python",
   "name": "python",
   "nbconvert_exporter": "python",
   "pygments_lexer": "ipython3",
   "version": "3.8.10"
  }
 },
 "nbformat": 4,
 "nbformat_minor": 5
}
