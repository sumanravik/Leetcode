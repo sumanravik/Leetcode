{
 "cells": [
  {
   "cell_type": "markdown",
   "id": "11ecebd0",
   "metadata": {},
   "source": [
    "### Adding two linked lists and keeping it as a single digit values"
   ]
  },
  {
   "cell_type": "code",
   "execution_count": 1,
   "id": "c12ef09c",
   "metadata": {},
   "outputs": [],
   "source": [
    "class ListNode:\n",
    "     def __init__(self, val=0, next=None):\n",
    "         self.val = val\n",
    "         self.next = next"
   ]
  },
  {
   "cell_type": "code",
   "execution_count": 4,
   "id": "d244b4bb",
   "metadata": {},
   "outputs": [],
   "source": [
    "class Solution:\n",
    "    def addTwoNumbers(self, l1: [ListNode], l2: [ListNode]) -> [ListNode]:\n",
    "        carry = 0 \n",
    "        n = ListNode(0)\n",
    "        res = n \n",
    "        while l1 or l2 or carry:\n",
    "            if l1:\n",
    "                carry+= l1.val\n",
    "                l1 = l1.next\n",
    "            if l2:\n",
    "                carry+= l2.val\n",
    "                l2 = l2.next\n",
    "            carry, num = divmod(carry,10)\n",
    "            n.next = ListNode(num)\n",
    "            n = n.next\n",
    "        return res.next"
   ]
  },
  {
   "cell_type": "markdown",
   "id": "704324e1",
   "metadata": {},
   "source": [
    "##### Initialize a carry variable and keep traversing both the linked lists at the same time while adding the numbers to the carry variable. If carry exceeds 9 then it is split into two values and finally the head of the resultant linked list is returned"
   ]
  }
 ],
 "metadata": {
  "kernelspec": {
   "display_name": "Python 3 (ipykernel)",
   "language": "python",
   "name": "python3"
  },
  "language_info": {
   "codemirror_mode": {
    "name": "ipython",
    "version": 3
   },
   "file_extension": ".py",
   "mimetype": "text/x-python",
   "name": "python",
   "nbconvert_exporter": "python",
   "pygments_lexer": "ipython3",
   "version": "3.8.10"
  }
 },
 "nbformat": 4,
 "nbformat_minor": 5
}
